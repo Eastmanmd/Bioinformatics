{
 "cells": [
  {
   "cell_type": "code",
   "execution_count": 40,
   "id": "9786c467",
   "metadata": {},
   "outputs": [],
   "source": [
    "mismatch_no = 0\n",
    "match_no = 0\n",
    "total_gap_count = 0 #total gaps found in the entire sequence \n",
    "len_gap_counts = [0 for i in range(1000)]  #stores the counts of gaps based on the length "
   ]
  },
  {
   "cell_type": "code",
   "execution_count": 41,
   "id": "40f07e2a-cb6a-420c-9220-a1eca570aa71",
   "metadata": {},
   "outputs": [],
   "source": [
    "def count_gaps(string1):\n",
    "    \n",
    "    \"\"\"\n",
    "    Parses through a sequence and counts the number of gaps in the given string sequence\n",
    "    \n",
    "    Parameters\n",
    "    ----------\n",
    "    string1 : str \n",
    "        The dna sequence of first species \n",
    " \n",
    "    \"\"\"\n",
    "    \n",
    "    global total_gap_count\n",
    "    global len_gap_counts\n",
    "    continue_gap = False\n",
    "    gap_len = 0\n",
    "    \n",
    "    for i, base in enumerate(string1):\n",
    "        \n",
    "        # If gap is encoutered \n",
    "        if base == \"-\":\n",
    "            \n",
    "            if (continue_gap) == False:\n",
    "                total_gap_count = total_gap_count + 1\n",
    "                continue_gap = True\n",
    "                gap_len = gap_len + 1\n",
    "                \n",
    "            elif (continue_gap) == True:\n",
    "                gap_len = gap_len + 1\n",
    "                   \n",
    "        else:\n",
    "            if (continue_gap) == True:\n",
    "                len_gap_counts[gap_len] = (len_gap_counts[gap_len]) + 1\n",
    "                gap_len = 0        #resets the gap length back to zero\n",
    "                continue_gap = False\n",
    "                \n",
    "    if (continue_gap) == True:\n",
    "        len_gap_counts[gap_len] = (len_gap_counts[gap_len]) + 1\n",
    "        gap_len = 0 \n",
    "        continue_gap = False\n",
    "        "
   ]
  },
  {
   "cell_type": "code",
   "execution_count": 42,
   "id": "8f631426-4ce6-4179-b8a1-939e2d8f62a9",
   "metadata": {},
   "outputs": [],
   "source": [
    "def compare(string1, string2):\n",
    "    \"\"\"\n",
    "    Compares the individual bases between two sequences of two different species\n",
    "    Note: This method ignores gaps\n",
    "    \n",
    "    Parameters\n",
    "    ----------\n",
    "    string1 : str\n",
    "        The dna sequence of first species \n",
    "    string2 : str\n",
    "        The dna sequence of first species \n",
    "    \"\"\"\n",
    "    \n",
    "    global match_no\n",
    "    global mismatch_no\n",
    "    \n",
    "    for i, base in enumerate(string1):\n",
    "        \n",
    "        if (string1[i].isalpha() == False) or (string2[i].isalpha() == False):\n",
    "            continue \n",
    "            \n",
    "        else:\n",
    "            \n",
    "            if string1[i] == string2[i]:  #Basepair match, increase match count\n",
    "                match_no = match_no + 1\n",
    "                \n",
    "            elif string1[i] != string2[i]:  #Basepair mismatch, increase the msimatch count\n",
    "                mismatch_no = mismatch_no + 1     "
   ]
  },
  {
   "cell_type": "code",
   "execution_count": 43,
   "id": "11335373-d239-4760-86fd-083273da4de0",
   "metadata": {},
   "outputs": [],
   "source": [
    "def compute_gap_rate(gap_no, match_no, mismatch_no):\n",
    "    \n",
    "    \"\"\"\n",
    "    Computes the total gap rate between two species given the sequence information\n",
    "    \n",
    "    Parameters\n",
    "    ----------\n",
    "    gap_no : integer \n",
    "        The total number of gaps present in the entire file\n",
    "        \n",
    "    match_no : integer \n",
    "        The total number of matches present in the sequence file\n",
    "        \n",
    "    mismatch_no : integer \n",
    "        The total number of matches present in the sequence file\n",
    "        \n",
    "    ----------\n",
    "    return: the gap rate between the two species \n",
    " \n",
    "    \"\"\"\n",
    "    \n",
    "    gap_rate = gap_no / (match_no + mismatch_no + gap_no)\n",
    "    \n",
    "    return gap_rate"
   ]
  },
  {
   "cell_type": "code",
   "execution_count": 52,
   "id": "c4685277",
   "metadata": {},
   "outputs": [],
   "source": [
    "def read_and_compare(filename):\n",
    "\n",
    "    \"\"\"\n",
    "    Reads each line in the file and extracts the lines corresponding to dna sequences \n",
    "    compares these sequences using the compare method. \n",
    "    \n",
    "    Parameters\n",
    "    ----------\n",
    "    filename : str\n",
    "        The maf file containing the sequences \n",
    "    \"\"\"\n",
    "    okay = False\n",
    "    with open(filename) as f:\n",
    "        while True:\n",
    "            okay = False\n",
    "            try:\n",
    "                line_1 = next(f)\n",
    "\n",
    "                if line_1[0] == \"s\":\n",
    "                    human = line_1.split()[-1].upper()\n",
    "                    count_gaps(human)\n",
    "                    \n",
    "\n",
    "                    line_2 = next(f)\n",
    "                    chimp = chimp = line_2.split()[-1].upper()\n",
    "                    count_gaps(chimp)\n",
    "\n",
    "                    compare(chimp,human)\n",
    "                okay = True\n",
    "\n",
    "            except StopIteration:\n",
    "                break  # End of file."
   ]
  },
  {
   "cell_type": "code",
   "execution_count": 45,
   "id": "6b7b5ab2-6db0-4a47-ae75-5c92d23f34d1",
   "metadata": {},
   "outputs": [],
   "source": [
    "def display(len_gap_counts):\n",
    "    \n",
    "    \"\"\"\n",
    "    Displays the counts for each individual gap length encountered in the file\n",
    "    \n",
    "    Parameters\n",
    "    ----------\n",
    "    len_gap_counts : list/matrix \n",
    "        Contains the counts of the individual gap lengths in the sequences \n",
    "    \"\"\"\n",
    "    \n",
    "    print('{:<13}'.format(\"Gap Length\"), '{:<7}'.format(\"Count\"), '{:>13}'.format(\"Gap Frequency\"))\n",
    "    for i, items in enumerate(len_gap_counts):\n",
    "        if items != 0:\n",
    "            print('{:<13}'.format(i), '{:<7}'.format(items), '{:<13}'.format(round(items/sum(len_gap_counts), 4)))"
   ]
  },
  {
   "cell_type": "code",
   "execution_count": 46,
   "id": "a79ae6a0",
   "metadata": {},
   "outputs": [],
   "source": [
    "read_and_compare(\"chimp.maf\")"
   ]
  },
  {
   "cell_type": "code",
   "execution_count": 47,
   "id": "9bd347f6-9253-49e8-bf03-1b856f9c1454",
   "metadata": {},
   "outputs": [],
   "source": [
    "import numpy as np\n",
    "import pandas as pd\n",
    "import matplotlib.pylab as plt"
   ]
  },
  {
   "cell_type": "code",
   "execution_count": 48,
   "id": "058930b2-c89b-4d82-bb9c-98cf2787791e",
   "metadata": {},
   "outputs": [],
   "source": [
    "plot_data = {}"
   ]
  },
  {
   "cell_type": "code",
   "execution_count": 49,
   "id": "a69ce52f-a682-4f19-aa09-330709de50c1",
   "metadata": {},
   "outputs": [],
   "source": [
    "for i, count in enumerate(len_gap_counts):\n",
    "    if count != 0:\n",
    "        plot_data[i] = count/sum(len_gap_counts)"
   ]
  },
  {
   "cell_type": "code",
   "execution_count": 50,
   "id": "490d375e-f6ef-43da-bb53-e580d644c5e7",
   "metadata": {},
   "outputs": [],
   "source": [
    "keys = plot_data.keys()\n",
    "values = plot_data.values()"
   ]
  },
  {
   "cell_type": "code",
   "execution_count": 51,
   "id": "d48a0a4e-4db5-47f1-913c-dc2744d7f9ee",
   "metadata": {},
   "outputs": [
    {
     "data": {
      "image/png": "[encoded data removed]",
      "text/plain": [
       "<Figure size 1440x720 with 1 Axes>"
      ]
     },
     "metadata": {
      "needs_background": "light"
     },
     "output_type": "display_data"
    }
   ],
   "source": [
    "plt.figure(figsize=(20, 10))\n",
    "plt.scatter(keys, values)\n",
    "plt.xlabel('Gap Length', fontsize=18)\n",
    "plt.ylabel('Gap Frequency', fontsize=18)\n",
    "plt.xticks(np.arange(0, 105, 5))\n",
    "plt.title(\"Gap Frequency vs Gap Length\", fontsize=18)\n",
    "plt.grid(axis = \"y\")\n",
    "plt.show()"
   ]
  },
  {
   "cell_type": "code",
   "execution_count": 27,
   "id": "91eed9cc-af1f-42ed-a834-ec5dfebb16f3",
   "metadata": {},
   "outputs": [
    {
     "data": {
      "text/plain": [
       "dict_keys([1, 2, 3, 4, 5, 6, 7, 8, 9, 10, 11, 12, 13, 14, 15, 16, 17, 18, 19, 20, 21, 22, 23, 24, 25, 26, 27, 28, 29, 30, 31, 32, 33, 34, 35, 36, 37, 38, 39, 40, 41, 42, 43, 44, 45, 46, 47, 48, 49, 50, 51, 52, 53, 54, 55, 56, 57, 58, 59, 60, 61, 62, 63, 64, 65, 66, 67, 68, 69, 70, 71, 72, 73, 74, 75, 76, 77, 78, 79, 80, 81, 82, 83, 84, 85, 86, 87, 88, 89, 90, 91, 92, 93, 94, 95, 96, 97, 98, 99, 100, 101, 102, 103, 104, 105, 106, 107, 110, 111, 113, 114, 115, 116, 118, 119, 120, 121, 123, 124, 130, 135, 136, 137, 138, 140, 141, 168, 178, 227])"
      ]
     },
     "execution_count": 27,
     "metadata": {},
     "output_type": "execute_result"
    }
   ],
   "source": [
    "plot_data.keys()"
   ]
  },
  {
   "cell_type": "code",
   "execution_count": 75,
   "id": "81c34f11-046a-4b82-a25d-7788a91cb219",
   "metadata": {},
   "outputs": [
    {
     "name": "stdout",
     "output_type": "stream",
     "text": [
      "Gap Length    Count   Gap Frequency\n",
      "1             161478  0.3281       \n",
      "2             71950   0.1462       \n",
      "3             47915   0.0973       \n",
      "4             37365   0.0759       \n",
      "5             24485   0.0497       \n",
      "6             18824   0.0382       \n",
      "7             15030   0.0305       \n",
      "8             12845   0.0261       \n",
      "9             11044   0.0224       \n",
      "10            9455    0.0192       \n",
      "11            8115    0.0165       \n",
      "12            7086    0.0144       \n",
      "13            6365    0.0129       \n",
      "14            5558    0.0113       \n",
      "15            5038    0.0102       \n",
      "16            4412    0.009        \n",
      "17            3698    0.0075       \n",
      "18            3403    0.0069       \n",
      "19            2938    0.006        \n",
      "20            2823    0.0057       \n",
      "21            2451    0.005        \n",
      "22            2166    0.0044       \n",
      "23            2043    0.0042       \n",
      "24            1799    0.0037       \n",
      "25            1711    0.0035       \n",
      "26            1345    0.0027       \n",
      "27            1346    0.0027       \n",
      "28            1216    0.0025       \n",
      "29            1081    0.0022       \n",
      "30            989     0.002        \n",
      "31            886     0.0018       \n",
      "32            873     0.0018       \n",
      "33            805     0.0016       \n",
      "34            716     0.0015       \n",
      "35            605     0.0012       \n",
      "36            616     0.0013       \n",
      "37            607     0.0012       \n",
      "38            510     0.001        \n",
      "39            503     0.001        \n",
      "40            479     0.001        \n",
      "41            448     0.0009       \n",
      "42            433     0.0009       \n",
      "43            355     0.0007       \n",
      "44            379     0.0008       \n",
      "45            369     0.0007       \n",
      "46            334     0.0007       \n",
      "47            317     0.0006       \n",
      "48            298     0.0006       \n",
      "49            289     0.0006       \n",
      "50            267     0.0005       \n",
      "51            237     0.0005       \n",
      "52            281     0.0006       \n",
      "53            286     0.0006       \n",
      "54            224     0.0005       \n",
      "55            208     0.0004       \n",
      "56            193     0.0004       \n",
      "57            207     0.0004       \n",
      "58            177     0.0004       \n",
      "59            166     0.0003       \n",
      "60            177     0.0004       \n",
      "61            176     0.0004       \n",
      "62            148     0.0003       \n",
      "63            167     0.0003       \n",
      "64            143     0.0003       \n",
      "65            162     0.0003       \n",
      "66            147     0.0003       \n",
      "67            133     0.0003       \n",
      "68            149     0.0003       \n",
      "69            140     0.0003       \n",
      "70            132     0.0003       \n",
      "71            125     0.0003       \n",
      "72            112     0.0002       \n",
      "73            114     0.0002       \n",
      "74            96      0.0002       \n",
      "75            101     0.0002       \n",
      "76            103     0.0002       \n",
      "77            101     0.0002       \n",
      "78            96      0.0002       \n",
      "79            92      0.0002       \n",
      "80            91      0.0002       \n",
      "81            92      0.0002       \n",
      "82            80      0.0002       \n",
      "83            74      0.0002       \n",
      "84            75      0.0002       \n",
      "85            74      0.0002       \n",
      "86            80      0.0002       \n",
      "87            77      0.0002       \n",
      "88            97      0.0002       \n",
      "89            80      0.0002       \n",
      "90            92      0.0002       \n",
      "91            71      0.0001       \n",
      "92            74      0.0002       \n",
      "93            70      0.0001       \n",
      "94            61      0.0001       \n",
      "95            74      0.0002       \n",
      "96            74      0.0002       \n",
      "97            58      0.0001       \n",
      "98            61      0.0001       \n",
      "99            69      0.0001       \n",
      "100           54      0.0001       \n"
     ]
    }
   ],
   "source": [
    "display(len_gap_counts)"
   ]
  },
  {
   "cell_type": "code",
   "execution_count": null,
   "id": "2b0baef2-759f-4a86-bb56-f3f55f3cc7a4",
   "metadata": {},
   "outputs": [],
   "source": []
  }
 ],
 "metadata": {
  "kernelspec": {
   "display_name": "Python 3 (ipykernel)",
   "language": "python",
   "name": "python3"
  },
  "language_info": {
   "codemirror_mode": {
    "name": "ipython",
    "version": 3
   },
   "file_extension": ".py",
   "mimetype": "text/x-python",
   "name": "python",
   "nbconvert_exporter": "python",
   "pygments_lexer": "ipython3",
   "version": "3.9.6"
  }
 },
 "nbformat": 4,
 "nbformat_minor": 5
}
