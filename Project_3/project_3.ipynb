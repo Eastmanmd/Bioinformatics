{
 "cells": [
  {
   "cell_type": "code",
   "execution_count": 191,
   "id": "cfae320e-66a9-46f0-88d6-e4b0d1fd5fb9",
   "metadata": {},
   "outputs": [],
   "source": [
    "T = [0 for i in range(500000)]\n",
    "tTotal = 0\n",
    "cTotal = 0 #total computed aligned positions\n",
    "correct = 0 #correctly aligned positions \n",
    "criteria = 5 #default critera value\n",
    "sensitivity = 0\n",
    "specificity = 0"
   ]
  },
  {
   "cell_type": "code",
   "execution_count": 192,
   "id": "913d9110-549d-4486-8729-762f391e6c51",
   "metadata": {},
   "outputs": [],
   "source": [
    "def trueAlignment(seq1, seq2):\n",
    "    global tTotal\n",
    "    global T\n",
    "    \n",
    "    \"\"\"\n",
    "    Calculates the true alignment between two alignment strings \n",
    "    \n",
    "    Parameters\n",
    "    ----------\n",
    "    seq1 : str \n",
    "        alignment sequence of the first species \n",
    "        \n",
    "    seq2: str\n",
    "        alignment sequence of the second species \n",
    " \n",
    "    \"\"\"\n",
    "    \n",
    "    len1 = len(seq1)\n",
    "    len2 = len(seq2)\n",
    "    \n",
    "    length = len1 #default length \n",
    "    \n",
    "    if len2 < len1:\n",
    "        length = len2\n",
    "    \n",
    "    tTotal = 0 #stores the total true aligned positions\n",
    "    pos1 = 0 #current position in the first species \n",
    "    pos2 = 0 #current position in the second species \n",
    "    \n",
    "    for i in range(length):\n",
    "        if seq1[i].upper() in [\"A\", \"C\", \"T\", \"G\"]:   #checks that base is a valid base (not gaps)\n",
    "            \n",
    "            if seq2[i].upper() in [\"A\", \"C\", \"T\", \"G\"]:   #checks that base is a valid base (not gaps)\n",
    "                \n",
    "                T[pos1] = pos2  #pos2 of second species aligned to pos1 of first species \n",
    "                \n",
    "            elif seq2[i] == \"-\": \n",
    "                T[pos1] = pos2 - 0.5 \n",
    "            pos1 = pos1 + 1\n",
    "            \n",
    "            \n",
    "        if seq2[i].upper() in [\"A\", \"C\", \"T\", \"G\"]:\n",
    "            pos2 = pos2 + 1\n",
    "            \n",
    "    \n",
    "    tTotal = pos1"
   ]
  },
  {
   "cell_type": "code",
   "execution_count": 193,
   "id": "6093d848-517d-46b6-9fdb-aa8a4ece9409",
   "metadata": {},
   "outputs": [],
   "source": [
    "def readTrueAlignmentFile (filename):\n",
    "    \n",
    "    \"\"\"\n",
    "    Reads in the true alignment file and calls a method that calculates the true \n",
    "    alignment between two  sequences \n",
    "    \n",
    "    Parameters\n",
    "    ----------\n",
    "    filename : path to the file (fasta file) containing the sequences  \n",
    "    \n",
    "    Note\n",
    "    ---------\n",
    "    This functions calls the trueAlignment function \n",
    " \n",
    "    \"\"\"\n",
    "    \n",
    "    print(\"Read and Process the FASTA file(True Alignment File)\")\n",
    "    \n",
    "    \n",
    "    #stores the the alignment information for the two species \n",
    "    #first position: species 1\n",
    "    #second position: species 2 \n",
    "    align_block = []\n",
    "    \n",
    "    count = 0\n",
    "    \n",
    "    okay = False\n",
    "    with open(filename) as f:\n",
    "        while True:\n",
    "            okay = False\n",
    "            try:\n",
    "                line = next(f)\n",
    "\n",
    "                if line[0] == \">\":\n",
    "                    line_1 = next(f)\n",
    "                    align_block.append(line_1)\n",
    "                    count = count + 1\n",
    "                    \n",
    "                okay = True\n",
    "\n",
    "            except StopIteration:\n",
    "                break  # End of file.          \n",
    "    trueAlignment(align_block[0], align_block[1])"
   ]
  },
  {
   "cell_type": "code",
   "execution_count": 194,
   "id": "a841fa67-a252-442c-ac6b-7680d567b701",
   "metadata": {},
   "outputs": [],
   "source": [
    "def computedAlignment(pos_1, pos_2, seq1, seq2):\n",
    "    \n",
    "    \"\"\"\n",
    "    Process the computed alignment from a given MAF file \n",
    "    \n",
    "    Parameters\n",
    "    ----------\n",
    "    seq1 : str \n",
    "        alignment sequence of the first species \n",
    "        \n",
    "    seq2: str\n",
    "        alignment sequence of the second species \n",
    " \n",
    "    \"\"\"\n",
    "    \n",
    "    global cTotal\n",
    "    global correct \n",
    "    \n",
    "    pos1 = pos_1\n",
    "    pos2 = pos_2\n",
    "    \n",
    "    len1 = len(seq1)\n",
    "    len2 = len(seq2)\n",
    "    \n",
    "    length = len1 #default length \n",
    "    \n",
    "    if len2 < len1:\n",
    "        length = len2\n",
    "    \n",
    "    for i in range(length):\n",
    "        \n",
    "        if pos1 >= tTotal:\n",
    "            break\n",
    "        \n",
    "        if seq1[i].upper() in [\"A\", \"C\", \"T\", \"G\"]:\n",
    "            y = T[pos1] #retrieve true aligned position informtion from array T\n",
    "#             print(\"y\", y)\n",
    "            \n",
    "            if seq2[i].upper() in [\"A\", \"C\", \"T\", \"G\"]:\n",
    "                y_1 = pos2 #pos2 of second species is aligned to pos1 of first species \n",
    "#                 print(\"y_1\", y_1)\n",
    "                \n",
    "            elif seq2[i] == \"-\":\n",
    "                y_1 = pos2 - 0.5 #pos2 is next base \n",
    "                print(\"yes\")\n",
    "                \n",
    "            diff = abs(y - y_1)\n",
    "            \n",
    "            if diff <= criteria:\n",
    "                correct = correct + 1\n",
    "                \n",
    "            pos1 = pos1 + 1\n",
    "            cTotal = cTotal + 1\n",
    "            \n",
    "        if seq1[i] in [\"A\", \"C\", \"T\", \"G\"]:\n",
    "            pos2 = pos2 + 1"
   ]
  },
  {
   "cell_type": "code",
   "execution_count": 195,
   "id": "9103291e-6481-4dd0-bdf1-45a225340c6f",
   "metadata": {},
   "outputs": [],
   "source": [
    "def readMafFile (filename):\n",
    "    \n",
    "    \"\"\"\n",
    "    Reads in the computed alignment file (MAF file)  and calls a method that processes this alignment \n",
    "    between two sequences from the file \n",
    "    \n",
    "    Parameters\n",
    "    ----------\n",
    "    filename : path to the file (maf file) containing the sequences  \n",
    "    \n",
    "    Note\n",
    "    ---------\n",
    "    This functions calls the computedAlignment function \n",
    " \n",
    "    \"\"\"\n",
    "    \n",
    "    print(\"Read and Process MAF file (computed) file\")\n",
    "    \n",
    "    okay = False\n",
    "    with open(filename) as f:\n",
    "        while True:\n",
    "            okay = False\n",
    "            try:\n",
    "                line_1 = next(f)\n",
    "\n",
    "                if line_1[0] == \"s\":\n",
    "                    pos1 = int(line_1.split()[2])\n",
    "                    human = line_1.split()[-1].upper()\n",
    "#                     print(pos1)\n",
    "                    \n",
    "\n",
    "                    line_2 = next(f)\n",
    "                    pos2 = int(line_2.split()[2])\n",
    "                    chimp = line_2.split()[-1].upper()\n",
    "\n",
    "                    computedAlignment(pos1, pos2, human, chimp)\n",
    "                    \n",
    "                okay = True\n",
    "\n",
    "            except StopIteration:\n",
    "                break  # End of file."
   ]
  },
  {
   "cell_type": "code",
   "execution_count": 196,
   "id": "5401c64e-215a-4f5a-b44d-74b467bda7fc",
   "metadata": {},
   "outputs": [],
   "source": [
    "def computeMetrics(cor, tTot, cTot):\n",
    "    \n",
    "    global sensitivity\n",
    "    global specificity \n",
    "    \n",
    "    if tTot > 0:\n",
    "        sensitivity = cor/tTot\n",
    "        \n",
    "    if cTot > 0:\n",
    "        specificity = cor/cTot\n",
    "    "
   ]
  },
  {
   "cell_type": "code",
   "execution_count": 197,
   "id": "a83ce6af-25ff-48a9-8a15-11031426a8cf",
   "metadata": {},
   "outputs": [
    {
     "name": "stdout",
     "output_type": "stream",
     "text": [
      "Read and Process the FASTA file(True Alignment File)\n"
     ]
    }
   ],
   "source": [
    "readTrueAlignmentFile(\"chimp1.fa\")"
   ]
  },
  {
   "cell_type": "code",
   "execution_count": 198,
   "id": "8b0389b3-7e8b-4d62-9946-89974463965f",
   "metadata": {},
   "outputs": [],
   "source": [
    "criteria = 54414612"
   ]
  },
  {
   "cell_type": "code",
   "execution_count": 199,
   "id": "cb6ad09e-c531-417a-b028-2433c77e568e",
   "metadata": {},
   "outputs": [
    {
     "name": "stdout",
     "output_type": "stream",
     "text": [
      "Read and Process MAF file (computed) file\n"
     ]
    }
   ],
   "source": [
    "readMafFile(\"chimp2.maf\")"
   ]
  },
  {
   "cell_type": "code",
   "execution_count": 200,
   "id": "1767a763-eedd-407a-86d2-9223bd160bf8",
   "metadata": {},
   "outputs": [],
   "source": [
    "computeMetrics(correct, tTotal, cTotal)"
   ]
  },
  {
   "cell_type": "code",
   "execution_count": 201,
   "id": "a46a9365-9d03-4521-b068-f78a640a863a",
   "metadata": {},
   "outputs": [
    {
     "data": {
      "text/plain": [
       "1.0"
      ]
     },
     "execution_count": 201,
     "metadata": {},
     "output_type": "execute_result"
    }
   ],
   "source": [
    "specificity"
   ]
  },
  {
   "cell_type": "code",
   "execution_count": 202,
   "id": "d8b03f26-2614-4691-8f05-7809665431e1",
   "metadata": {},
   "outputs": [
    {
     "data": {
      "text/plain": [
       "0.004608294930875576"
      ]
     },
     "execution_count": 202,
     "metadata": {},
     "output_type": "execute_result"
    }
   ],
   "source": [
    "sensitivity"
   ]
  },
  {
   "cell_type": "code",
   "execution_count": null,
   "id": "e8da2176-59ab-4b52-bca5-768c6c48f2b2",
   "metadata": {},
   "outputs": [],
   "source": []
  }
 ],
 "metadata": {
  "kernelspec": {
   "display_name": "Python 3 (ipykernel)",
   "language": "python",
   "name": "python3"
  },
  "language_info": {
   "codemirror_mode": {
    "name": "ipython",
    "version": 3
   },
   "file_extension": ".py",
   "mimetype": "text/x-python",
   "name": "python",
   "nbconvert_exporter": "python",
   "pygments_lexer": "ipython3",
   "version": "3.9.6"
  }
 },
 "nbformat": 4,
 "nbformat_minor": 5
}
