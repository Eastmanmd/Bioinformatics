{
 "cells": [
  {
   "cell_type": "code",
   "execution_count": 1,
   "id": "9786c467",
   "metadata": {},
   "outputs": [],
   "source": [
    "rows = 4\n",
    "cols = 4\n",
    "matrix = [[0 for i in range(cols)] for j in range(rows)]\n",
    "\n",
    "mismatch_no = 0\n",
    "match_no = 0\n",
    "transitions = 0\n",
    "transversions = 0"
   ]
  },
  {
   "cell_type": "code",
   "execution_count": 2,
   "id": "2fc2b4a7",
   "metadata": {},
   "outputs": [],
   "source": [
    "def compare(string1, string2):\n",
    "    global match_no\n",
    "    global mismatch_no\n",
    "    global transitions\n",
    "    global transversions \n",
    "    for i, base in enumerate(string1):\n",
    "        \n",
    "        if (string1[i] not in [\"A\", \"C\", \"T\", \"G\"]):\n",
    "            continue\n",
    "\n",
    "        if (string2[i] not in [\"A\", \"C\", \"T\", \"G\"]):\n",
    "            continue\n",
    "                     \n",
    "        if string1[i] == \"A\":\n",
    "\n",
    "            if string2[i] == \"A\":\n",
    "                matrix[0][0] = matrix[0][0] + 1\n",
    "                match_no = match_no + 1\n",
    "\n",
    "            elif string2[i] == \"C\":\n",
    "                matrix[0][1] = matrix[0][1] + 1\n",
    "                mismatch_no = mismatch_no + 1\n",
    "                transversions = transversions + 1\n",
    "\n",
    "            elif string2[i] == \"T\":\n",
    "                matrix[0][2] = matrix[0][2] + 1\n",
    "                mismatch_no = mismatch_no + 1\n",
    "                transversions = transversions + 1\n",
    "\n",
    "            elif string2[i] == \"G\":\n",
    "                matrix[0][3] = matrix[0][3] + 1\n",
    "                mismatch_no = mismatch_no + 1\n",
    "                transitions = transitions + 1\n",
    "\n",
    "\n",
    "        elif (string1[i] == \"C\"):\n",
    "\n",
    "            if (string2[i] == \"A\"):\n",
    "                matrix[1][0] = matrix[1][0] + 1\n",
    "                mismatch_no = mismatch_no + 1\n",
    "                transversions = transversions + 1\n",
    "\n",
    "            elif (string2[i] == \"C\"):\n",
    "                matrix[1][1] = matrix[1][1] + 1\n",
    "                match_no = match_no + 1\n",
    "\n",
    "            elif (string2[i] == \"T\"):\n",
    "                matrix[1][2] = matrix[1][2] + 1\n",
    "                mismatch_no = mismatch_no + 1\n",
    "                transitions = transitions + 1\n",
    "\n",
    "            elif (string2[i] == \"G\"):\n",
    "                matrix[1][3] = matrix[1][3] + 1\n",
    "                mismatch_no = mismatch_no + 1\n",
    "                transversions = transversions + 1\n",
    "\n",
    "\n",
    "        elif (string1[i] == \"T\"):\n",
    "\n",
    "            if (string2[i] == \"A\"):\n",
    "                matrix[2][0] = matrix[2][0] + 1\n",
    "                mismatch_no = mismatch_no + 1\n",
    "                transversions = transversions + 1\n",
    "\n",
    "            elif (string2[i] == \"C\"):\n",
    "                matrix[2][1] = matrix[2][1] + 1\n",
    "                mismatch_no = mismatch_no + 1\n",
    "                transitions = transitions + 1\n",
    "\n",
    "            elif (string2[i] == \"T\"):\n",
    "                matrix[2][2] = matrix[2][2] + 1\n",
    "                match_no = match_no + 1\n",
    "\n",
    "            elif (string2[i] == \"G\"):\n",
    "                matrix[2][3] = matrix[2][3] + 1\n",
    "                mismatch_no = mismatch_no + 1\n",
    "                transversions = transversions + 1\n",
    "\n",
    "\n",
    "        elif (string1[i] == \"G\"):\n",
    "\n",
    "            if (string2[i] == \"A\"):\n",
    "                matrix[3][0] = matrix[3][0] + 1\n",
    "                mismatch_no = mismatch_no + 1\n",
    "                transitions = transitions + 1\n",
    "\n",
    "            elif (string2[i] == \"C\"):\n",
    "                matrix[3][1] = matrix[3][1] + 1\n",
    "                mismatch_no = mismatch_no + 1\n",
    "                transversions = transversions + 1\n",
    "\n",
    "            elif (string2[i] == \"T\"):\n",
    "                matrix[3][2] = matrix[3][2] + 1\n",
    "                mismatch_no = mismatch_no + 1\n",
    "                transversions = transversions + 1\n",
    "\n",
    "            elif (string2[i] == \"G\"):\n",
    "                matrix[3][3] = matrix[3][3] + 1\n",
    "                match_no = match_no + 1\n",
    "                "
   ]
  },
  {
   "cell_type": "code",
   "execution_count": 3,
   "id": "c4685277",
   "metadata": {},
   "outputs": [],
   "source": [
    "def read_and_compare(filename):\n",
    "    okay = False\n",
    "    with open(filename) as f:\n",
    "        while True:\n",
    "            okay = False\n",
    "            try:\n",
    "                line_1 = next(f)\n",
    "\n",
    "                if line_1[0] == \"s\":\n",
    "                    human = line_1.split()[-1].upper()\n",
    "\n",
    "                    line_2 = next(f)\n",
    "                    chimp = chimp = line_2.split()[-1].upper()\n",
    "\n",
    "                    compare(chimp,human)\n",
    "                okay = True\n",
    "\n",
    "            except StopIteration:\n",
    "                break  # End of file."
   ]
  },
  {
   "cell_type": "code",
   "execution_count": 4,
   "id": "80b9a187-6e53-4de4-bbf0-1987b18caa83",
   "metadata": {},
   "outputs": [],
   "source": [
    "def compute_substitution_rate(match, mismatch):\n",
    "    \n",
    "    substitution_rate = mismatch / (match + mismatch)\n",
    "    \n",
    "    return substitution_rate"
   ]
  },
  {
   "cell_type": "code",
   "execution_count": 5,
   "id": "9bb03788-359c-44f3-a142-e644308b6e4b",
   "metadata": {},
   "outputs": [],
   "source": [
    "def transitions_to_transversion(transi_no, transver_no):\n",
    "    \n",
    "    ratio = transi_no/ transver_no\n",
    "    \n",
    "    return ratio"
   ]
  },
  {
   "cell_type": "code",
   "execution_count": 6,
   "id": "5375790c-b603-4e05-810a-1142c5ca180e",
   "metadata": {},
   "outputs": [
    {
     "data": {
      "text/plain": [
       "0"
      ]
     },
     "execution_count": 6,
     "metadata": {},
     "output_type": "execute_result"
    }
   ],
   "source": [
    "transitions"
   ]
  },
  {
   "cell_type": "code",
   "execution_count": 7,
   "id": "a79ae6a0",
   "metadata": {},
   "outputs": [],
   "source": [
    "read_and_compare(\"chimp.maf\")"
   ]
  },
  {
   "cell_type": "code",
   "execution_count": 150,
   "id": "1db80be5-0cc8-4cf2-a49e-851d6204d807",
   "metadata": {},
   "outputs": [],
   "source": [
    "matrix[0].insert(0, \"A\")\n",
    "matrix[1].insert(0, \"C\")\n",
    "matrix[2].insert(0, \"T\")\n",
    "matrix[3].insert(0, \"G\")"
   ]
  },
  {
   "cell_type": "code",
   "execution_count": 151,
   "id": "560f4d6a-f5e5-4fe8-abba-7e7a2d35e4fd",
   "metadata": {},
   "outputs": [],
   "source": [
    "matrix.insert(0, [\" \", \"A\", \"C\", \"T\", \"G\"])"
   ]
  },
  {
   "cell_type": "code",
   "execution_count": 152,
   "id": "49e79222-9e8f-40cc-935b-4cdf3ac5759a",
   "metadata": {},
   "outputs": [
    {
     "name": "stdout",
     "output_type": "stream",
     "text": [
      "         A        C        T        G        \n",
      "A        3433847  7202     4616     32967    \n",
      "C        7464     3443972  31664    9997     \n",
      "T        4515     32973    3431529  6948     \n",
      "G        31979    9916     7512     3457570  \n"
     ]
    }
   ],
   "source": [
    "print('\\n'.join([''.join(['{:<9}'.format(item) for item in row]) \n",
    "      for row in matrix]))"
   ]
  },
  {
   "cell_type": "code",
   "execution_count": 153,
   "id": "a7c9eb7b-5bb1-4fd2-a4a8-6bd48fc1d6ee",
   "metadata": {},
   "outputs": [
    {
     "data": {
      "text/plain": [
       "[[' ', 'A', 'C', 'T', 'G'],\n",
       " ['A', 3433847, 7202, 4616, 32967],\n",
       " ['C', 7464, 3443972, 31664, 9997],\n",
       " ['T', 4515, 32973, 3431529, 6948],\n",
       " ['G', 31979, 9916, 7512, 3457570]]"
      ]
     },
     "execution_count": 153,
     "metadata": {},
     "output_type": "execute_result"
    }
   ],
   "source": [
    "matrix"
   ]
  },
  {
   "cell_type": "code",
   "execution_count": 8,
   "id": "fdd28519-3496-40b2-ba4d-a7844d638991",
   "metadata": {},
   "outputs": [
    {
     "data": {
      "text/plain": [
       "(187753, 13766918)"
      ]
     },
     "execution_count": 8,
     "metadata": {},
     "output_type": "execute_result"
    }
   ],
   "source": [
    "mismatch_no,match_no"
   ]
  },
  {
   "cell_type": "code",
   "execution_count": null,
   "id": "a2cdc3ae-0c13-41b4-aaf7-512c17754674",
   "metadata": {},
   "outputs": [],
   "source": []
  }
 ],
 "metadata": {
  "kernelspec": {
   "display_name": "Python 3 (ipykernel)",
   "language": "python",
   "name": "python3"
  },
  "language_info": {
   "codemirror_mode": {
    "name": "ipython",
    "version": 3
   },
   "file_extension": ".py",
   "mimetype": "text/x-python",
   "name": "python",
   "nbconvert_exporter": "python",
   "pygments_lexer": "ipython3",
   "version": "3.9.6"
  }
 },
 "nbformat": 4,
 "nbformat_minor": 5
}
